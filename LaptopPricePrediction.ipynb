{
 "cells": [
  {
   "cell_type": "markdown",
   "metadata": {},
   "source": [
    "# Laptop price prediction"
   ]
  },
  {
   "cell_type": "markdown",
   "metadata": {},
   "source": [
    "The goal of this project is to find insights about features and choose the best machine learning regression algorithm to predict prices of laptops better."
   ]
  },
  {
   "cell_type": "markdown",
   "metadata": {},
   "source": [
    "Source: [kaggle.com/datasets/muhammetvarl/laptop-price](https://www.kaggle.com/datasets/muhammetvarl/laptop-price)"
   ]
  },
  {
   "cell_type": "markdown",
   "metadata": {},
   "source": [
    "## Import packages and functions"
   ]
  },
  {
   "cell_type": "code",
   "execution_count": 1,
   "metadata": {},
   "outputs": [],
   "source": [
    "import pandas as pd\n",
    "import numpy as np\n",
    "import matplotlib.pyplot as plt\n",
    "import seaborn as sns\n",
    "\n",
    "import warnings\n",
    "warnings.filterwarnings('ignore')\n",
    "\n",
    "from sklearn.model_selection import train_test_split\n",
    "from sklearn.preprocessing import OneHotEncoder\n",
    "\n",
    "from sklearn.metrics import r2_score\n",
    "from sklearn.model_selection import GridSearchCV, KFold\n",
    "\n",
    "from sklearn.linear_model import LinearRegression\n",
    "from sklearn.tree import DecisionTreeRegressor\n",
    "from sklearn.ensemble import RandomForestRegressor\n",
    "from xgboost import XGBRegressor\n",
    "\n",
    "from visualization import *\n",
    "from evaluation import *\n",
    "\n",
    "import time\n",
    "start_time = time.time()"
   ]
  },
  {
   "cell_type": "markdown",
   "metadata": {},
   "source": [
    "## Load dataset"
   ]
  },
  {
   "cell_type": "code",
   "execution_count": 2,
   "metadata": {},
   "outputs": [],
   "source": [
    "df = pd.read_csv('data/laptop_price.csv', encoding='latin-1')"
   ]
  },
  {
   "cell_type": "code",
   "execution_count": 3,
   "metadata": {},
   "outputs": [
    {
     "data": {
      "text/html": [
       "<div>\n",
       "<style scoped>\n",
       "    .dataframe tbody tr th:only-of-type {\n",
       "        vertical-align: middle;\n",
       "    }\n",
       "\n",
       "    .dataframe tbody tr th {\n",
       "        vertical-align: top;\n",
       "    }\n",
       "\n",
       "    .dataframe thead th {\n",
       "        text-align: right;\n",
       "    }\n",
       "</style>\n",
       "<table border=\"1\" class=\"dataframe\">\n",
       "  <thead>\n",
       "    <tr style=\"text-align: right;\">\n",
       "      <th></th>\n",
       "      <th>laptop_ID</th>\n",
       "      <th>Company</th>\n",
       "      <th>Product</th>\n",
       "      <th>TypeName</th>\n",
       "      <th>Inches</th>\n",
       "      <th>ScreenResolution</th>\n",
       "      <th>Cpu</th>\n",
       "      <th>Ram</th>\n",
       "      <th>Memory</th>\n",
       "      <th>Gpu</th>\n",
       "      <th>OpSys</th>\n",
       "      <th>Weight</th>\n",
       "      <th>Price_euros</th>\n",
       "    </tr>\n",
       "  </thead>\n",
       "  <tbody>\n",
       "    <tr>\n",
       "      <th>0</th>\n",
       "      <td>1</td>\n",
       "      <td>Apple</td>\n",
       "      <td>MacBook Pro</td>\n",
       "      <td>Ultrabook</td>\n",
       "      <td>13.3</td>\n",
       "      <td>IPS Panel Retina Display 2560x1600</td>\n",
       "      <td>Intel Core i5 2.3GHz</td>\n",
       "      <td>8GB</td>\n",
       "      <td>128GB SSD</td>\n",
       "      <td>Intel Iris Plus Graphics 640</td>\n",
       "      <td>macOS</td>\n",
       "      <td>1.37kg</td>\n",
       "      <td>1339.69</td>\n",
       "    </tr>\n",
       "    <tr>\n",
       "      <th>1</th>\n",
       "      <td>2</td>\n",
       "      <td>Apple</td>\n",
       "      <td>Macbook Air</td>\n",
       "      <td>Ultrabook</td>\n",
       "      <td>13.3</td>\n",
       "      <td>1440x900</td>\n",
       "      <td>Intel Core i5 1.8GHz</td>\n",
       "      <td>8GB</td>\n",
       "      <td>128GB Flash Storage</td>\n",
       "      <td>Intel HD Graphics 6000</td>\n",
       "      <td>macOS</td>\n",
       "      <td>1.34kg</td>\n",
       "      <td>898.94</td>\n",
       "    </tr>\n",
       "    <tr>\n",
       "      <th>2</th>\n",
       "      <td>3</td>\n",
       "      <td>HP</td>\n",
       "      <td>250 G6</td>\n",
       "      <td>Notebook</td>\n",
       "      <td>15.6</td>\n",
       "      <td>Full HD 1920x1080</td>\n",
       "      <td>Intel Core i5 7200U 2.5GHz</td>\n",
       "      <td>8GB</td>\n",
       "      <td>256GB SSD</td>\n",
       "      <td>Intel HD Graphics 620</td>\n",
       "      <td>No OS</td>\n",
       "      <td>1.86kg</td>\n",
       "      <td>575.00</td>\n",
       "    </tr>\n",
       "    <tr>\n",
       "      <th>3</th>\n",
       "      <td>4</td>\n",
       "      <td>Apple</td>\n",
       "      <td>MacBook Pro</td>\n",
       "      <td>Ultrabook</td>\n",
       "      <td>15.4</td>\n",
       "      <td>IPS Panel Retina Display 2880x1800</td>\n",
       "      <td>Intel Core i7 2.7GHz</td>\n",
       "      <td>16GB</td>\n",
       "      <td>512GB SSD</td>\n",
       "      <td>AMD Radeon Pro 455</td>\n",
       "      <td>macOS</td>\n",
       "      <td>1.83kg</td>\n",
       "      <td>2537.45</td>\n",
       "    </tr>\n",
       "    <tr>\n",
       "      <th>4</th>\n",
       "      <td>5</td>\n",
       "      <td>Apple</td>\n",
       "      <td>MacBook Pro</td>\n",
       "      <td>Ultrabook</td>\n",
       "      <td>13.3</td>\n",
       "      <td>IPS Panel Retina Display 2560x1600</td>\n",
       "      <td>Intel Core i5 3.1GHz</td>\n",
       "      <td>8GB</td>\n",
       "      <td>256GB SSD</td>\n",
       "      <td>Intel Iris Plus Graphics 650</td>\n",
       "      <td>macOS</td>\n",
       "      <td>1.37kg</td>\n",
       "      <td>1803.60</td>\n",
       "    </tr>\n",
       "  </tbody>\n",
       "</table>\n",
       "</div>"
      ],
      "text/plain": [
       "   laptop_ID Company      Product   TypeName  Inches  \\\n",
       "0          1   Apple  MacBook Pro  Ultrabook    13.3   \n",
       "1          2   Apple  Macbook Air  Ultrabook    13.3   \n",
       "2          3      HP       250 G6   Notebook    15.6   \n",
       "3          4   Apple  MacBook Pro  Ultrabook    15.4   \n",
       "4          5   Apple  MacBook Pro  Ultrabook    13.3   \n",
       "\n",
       "                     ScreenResolution                         Cpu   Ram  \\\n",
       "0  IPS Panel Retina Display 2560x1600        Intel Core i5 2.3GHz   8GB   \n",
       "1                            1440x900        Intel Core i5 1.8GHz   8GB   \n",
       "2                   Full HD 1920x1080  Intel Core i5 7200U 2.5GHz   8GB   \n",
       "3  IPS Panel Retina Display 2880x1800        Intel Core i7 2.7GHz  16GB   \n",
       "4  IPS Panel Retina Display 2560x1600        Intel Core i5 3.1GHz   8GB   \n",
       "\n",
       "                Memory                           Gpu  OpSys  Weight  \\\n",
       "0            128GB SSD  Intel Iris Plus Graphics 640  macOS  1.37kg   \n",
       "1  128GB Flash Storage        Intel HD Graphics 6000  macOS  1.34kg   \n",
       "2            256GB SSD         Intel HD Graphics 620  No OS  1.86kg   \n",
       "3            512GB SSD            AMD Radeon Pro 455  macOS  1.83kg   \n",
       "4            256GB SSD  Intel Iris Plus Graphics 650  macOS  1.37kg   \n",
       "\n",
       "   Price_euros  \n",
       "0      1339.69  \n",
       "1       898.94  \n",
       "2       575.00  \n",
       "3      2537.45  \n",
       "4      1803.60  "
      ]
     },
     "execution_count": 3,
     "metadata": {},
     "output_type": "execute_result"
    }
   ],
   "source": [
    "df.head()"
   ]
  },
  {
   "cell_type": "code",
   "execution_count": 4,
   "metadata": {},
   "outputs": [
    {
     "data": {
      "text/plain": [
       "(1303, 13)"
      ]
     },
     "execution_count": 4,
     "metadata": {},
     "output_type": "execute_result"
    }
   ],
   "source": [
    "df.shape"
   ]
  },
  {
   "cell_type": "code",
   "execution_count": 5,
   "metadata": {},
   "outputs": [
    {
     "data": {
      "text/plain": [
       "laptop_ID             int64\n",
       "Company              object\n",
       "Product              object\n",
       "TypeName             object\n",
       "Inches              float64\n",
       "ScreenResolution     object\n",
       "Cpu                  object\n",
       "Ram                  object\n",
       "Memory               object\n",
       "Gpu                  object\n",
       "OpSys                object\n",
       "Weight               object\n",
       "Price_euros         float64\n",
       "dtype: object"
      ]
     },
     "execution_count": 5,
     "metadata": {},
     "output_type": "execute_result"
    }
   ],
   "source": [
    "df.dtypes"
   ]
  },
  {
   "cell_type": "markdown",
   "metadata": {},
   "source": [
    "Checking duplicated rows:"
   ]
  },
  {
   "cell_type": "code",
   "execution_count": 6,
   "metadata": {},
   "outputs": [
    {
     "data": {
      "text/plain": [
       "0"
      ]
     },
     "execution_count": 6,
     "metadata": {},
     "output_type": "execute_result"
    }
   ],
   "source": [
    "len(df.loc[df.duplicated()])"
   ]
  },
  {
   "cell_type": "markdown",
   "metadata": {},
   "source": [
    "Checking whitespaces and missing values:"
   ]
  },
  {
   "cell_type": "code",
   "execution_count": 7,
   "metadata": {},
   "outputs": [],
   "source": [
    "for col in df.select_dtypes(include='object').columns.tolist():\n",
    "\n",
    "        if df.loc[df[col].apply(lambda x: x.isspace())].empty == False:\n",
    "                print(f'{col} has {len(df.loc[df[col].apply(lambda x: x.isspace())])} rows with only space characters. It will be replaced by NaN.')\n",
    "                df.loc[df[col].apply(lambda x: x.isspace()), col] = np.nan\n",
    "                df[col] = df[col].astype(float)"
   ]
  },
  {
   "cell_type": "code",
   "execution_count": 8,
   "metadata": {},
   "outputs": [
    {
     "data": {
      "text/plain": [
       "laptop_ID           0\n",
       "Company             0\n",
       "Product             0\n",
       "TypeName            0\n",
       "Inches              0\n",
       "ScreenResolution    0\n",
       "Cpu                 0\n",
       "Ram                 0\n",
       "Memory              0\n",
       "Gpu                 0\n",
       "OpSys               0\n",
       "Weight              0\n",
       "Price_euros         0\n",
       "dtype: int64"
      ]
     },
     "execution_count": 8,
     "metadata": {},
     "output_type": "execute_result"
    }
   ],
   "source": [
    "df.isnull().sum()"
   ]
  },
  {
   "cell_type": "markdown",
   "metadata": {},
   "source": [
    "## Exploratory Data Analysis"
   ]
  },
  {
   "cell_type": "markdown",
   "metadata": {},
   "source": [
    "Before feature engineering to get a basic overview:"
   ]
  },
  {
   "cell_type": "code",
   "execution_count": 9,
   "metadata": {},
   "outputs": [
    {
     "data": {
      "image/png": "[encoded data removed]",
      "text/plain": [
       "<Figure size 700x500 with 1 Axes>"
      ]
     },
     "metadata": {},
     "output_type": "display_data"
    }
   ],
   "source": [
    "fig, axes = plt.subplots(1, 1, figsize=(7, 5))\n",
    "sns.histplot(df['Price_euros'], color='tab:red')\n",
    "axes.set_xlabel('Price', fontsize=8)\n",
    "axes.set_ylabel('Count', fontsize=8)\n",
    "axes.tick_params(axis='both', which='both', labelsize=8)\n",
    "plt.show()"
   ]
  },
  {
   "cell_type": "markdown",
   "metadata": {},
   "source": [
    "* The target variable has a right-skewed distribution, it could be solved with a log-transformation."
   ]
  },
  {
   "cell_type": "code",
   "execution_count": 10,
   "metadata": {},
   "outputs": [],
   "source": [
    "df['Price_euros'] = np.log(df['Price_euros'])"
   ]
  },
  {
   "cell_type": "code",
   "execution_count": 11,
   "metadata": {},
   "outputs": [
    {
     "data": {
      "image/png": "[encoded data removed]",
      "text/plain": [
       "<Figure size 700x500 with 1 Axes>"
      ]
     },
     "metadata": {},
     "output_type": "display_data"
    }
   ],
   "source": [
    "fig, axes = plt.subplots(1, 1, figsize=(7, 5))\n",
    "sns.histplot(df['Price_euros'], color='tab:red')\n",
    "axes.set_xlabel('Price', fontsize=8)\n",
    "axes.set_ylabel('Count', fontsize=8)\n",
    "axes.tick_params(axis='both', which='both', labelsize=8)\n",
    "plt.show()"
   ]
  },
  {
   "cell_type": "markdown",
   "metadata": {},
   "source": [
    "Plot some categorical features:"
   ]
  },
  {
   "cell_type": "code",
   "execution_count": 12,
   "metadata": {},
   "outputs": [
    {
     "data": {
      "image/png": "[encoded data removed]",
      "text/plain": [
       "<Figure size 900x600 with 4 Axes>"
      ]
     },
     "metadata": {},
     "output_type": "display_data"
    }
   ],
   "source": [
    "plot_categories(df, ['Company', 'TypeName', 'OpSys', 'Ram'])"
   ]
  },
  {
   "cell_type": "markdown",
   "metadata": {},
   "source": [
    "* The most popular brands are HP, Dell and Lenovo, while the most popular types are Ultrabook, Notebook and Gaming.\n",
    "* More than 86% of laptops have a Windows operating system.\n",
    "* Most of the laptops have 4, 8 or 16GB ram."
   ]
  },
  {
   "cell_type": "markdown",
   "metadata": {},
   "source": [
    "## Feature engineering"
   ]
  },
  {
   "cell_type": "code",
   "execution_count": 13,
   "metadata": {},
   "outputs": [],
   "source": [
    "df.drop('laptop_ID', axis=1, inplace=True)\n",
    "df.rename(columns={'Price_euros': 'Price'}, inplace=True)"
   ]
  },
  {
   "cell_type": "markdown",
   "metadata": {},
   "source": [
    "Create **PixelsPerInch** feature using width and height resolution from ScreenResolution and Inches:"
   ]
  },
  {
   "cell_type": "code",
   "execution_count": 14,
   "metadata": {},
   "outputs": [],
   "source": [
    "df['WidthResolution'] = df['ScreenResolution'].apply(lambda x: int(x.split()[-1].split('x')[0]))\n",
    "df['HeightResolution'] = df['ScreenResolution'].apply(lambda x: int(x.split()[-1].split('x')[1]))\n",
    "df['PixelsPerInch'] = round(np.sqrt(df['WidthResolution']**2+df['HeightResolution']**2)/df['Inches'],2)"
   ]
  },
  {
   "cell_type": "markdown",
   "metadata": {},
   "source": [
    "Create binary features from screen tpyes of ScreenResolution:"
   ]
  },
  {
   "cell_type": "code",
   "execution_count": 15,
   "metadata": {},
   "outputs": [],
   "source": [
    "df['IPSPanel_Flag'] = np.where(df['ScreenResolution'].apply(lambda x: x.find('IPS Panel')) != -1, 1, 0)\n",
    "df['RetinaDisplay_Flag'] = np.where(df['ScreenResolution'].apply(lambda x: x.find('Retina Display')) != -1, 1, 0)\n",
    "df['TouchScreen_Flag'] = np.where(df['ScreenResolution'].apply(lambda x: x.find('Touchscreen')) != -1, 1, 0)\n",
    "\n",
    "df['FullHD_Flag'] = np.where(df['ScreenResolution'].apply(lambda x: x.find('Full HD')) != -1, 1, 0)\n",
    "df['QuadHD_Flag'] = np.where(df['ScreenResolution'].apply(lambda x: x.find('Quad HD')) != -1, 1, 0)\n",
    "df['UltraHD_Flag'] = np.where(df['ScreenResolution'].apply(lambda x: x.find('Ultra HD')) != -1, 1, 0)"
   ]
  },
  {
   "cell_type": "code",
   "execution_count": 16,
   "metadata": {},
   "outputs": [],
   "source": [
    "df.drop(['ScreenResolution', 'Inches', 'WidthResolution', 'HeightResolution'], axis=1, inplace=True)"
   ]
  },
  {
   "cell_type": "markdown",
   "metadata": {},
   "source": [
    "Convert Cpu feature into float:"
   ]
  },
  {
   "cell_type": "code",
   "execution_count": 17,
   "metadata": {},
   "outputs": [],
   "source": [
    "df['CPUGhz'] = df['Cpu'].apply(lambda x: float(x.split()[-1].split('GHz')[0]))"
   ]
  },
  {
   "cell_type": "markdown",
   "metadata": {},
   "source": [
    "Create **CPUCategory** feature, contains information about the brand of CPU:"
   ]
  },
  {
   "cell_type": "code",
   "execution_count": 18,
   "metadata": {},
   "outputs": [
    {
     "data": {
      "text/html": [
       "<div>\n",
       "<style scoped>\n",
       "    .dataframe tbody tr th:only-of-type {\n",
       "        vertical-align: middle;\n",
       "    }\n",
       "\n",
       "    .dataframe tbody tr th {\n",
       "        vertical-align: top;\n",
       "    }\n",
       "\n",
       "    .dataframe thead th {\n",
       "        text-align: right;\n",
       "    }\n",
       "</style>\n",
       "<table border=\"1\" class=\"dataframe\">\n",
       "  <thead>\n",
       "    <tr style=\"text-align: right;\">\n",
       "      <th></th>\n",
       "      <th>count</th>\n",
       "      <th>avg_price</th>\n",
       "    </tr>\n",
       "    <tr>\n",
       "      <th>CPUCategory</th>\n",
       "      <th></th>\n",
       "      <th></th>\n",
       "    </tr>\n",
       "  </thead>\n",
       "  <tbody>\n",
       "    <tr>\n",
       "      <th>AMD</th>\n",
       "      <td>62</td>\n",
       "      <td>6.215013</td>\n",
       "    </tr>\n",
       "    <tr>\n",
       "      <th>Samsung</th>\n",
       "      <td>1</td>\n",
       "      <td>6.490724</td>\n",
       "    </tr>\n",
       "    <tr>\n",
       "      <th>Intel</th>\n",
       "      <td>1240</td>\n",
       "      <td>6.870662</td>\n",
       "    </tr>\n",
       "  </tbody>\n",
       "</table>\n",
       "</div>"
      ],
      "text/plain": [
       "             count  avg_price\n",
       "CPUCategory                  \n",
       "AMD             62   6.215013\n",
       "Samsung          1   6.490724\n",
       "Intel         1240   6.870662"
      ]
     },
     "execution_count": 18,
     "metadata": {},
     "output_type": "execute_result"
    }
   ],
   "source": [
    "df['CPUCategory'] = df['Cpu'].apply(lambda x: x.split()[0])\n",
    "df.groupby('CPUCategory').agg(count = ('Product', 'count'), avg_price = ('Price', 'mean')).sort_values(by='avg_price')"
   ]
  },
  {
   "cell_type": "markdown",
   "metadata": {},
   "source": [
    "Due to the number of Samsung CPUs in the dataset, this observation will be removed:"
   ]
  },
  {
   "cell_type": "code",
   "execution_count": 19,
   "metadata": {},
   "outputs": [],
   "source": [
    "df = df.loc[df['CPUCategory'] != 'Samsung'].copy()"
   ]
  },
  {
   "cell_type": "markdown",
   "metadata": {},
   "source": [
    "Convert Intel category to the subtype of Intel CPUs and AMD category to \"Not_Intel\":"
   ]
  },
  {
   "cell_type": "code",
   "execution_count": 20,
   "metadata": {},
   "outputs": [
    {
     "data": {
      "text/html": [
       "<div>\n",
       "<style scoped>\n",
       "    .dataframe tbody tr th:only-of-type {\n",
       "        vertical-align: middle;\n",
       "    }\n",
       "\n",
       "    .dataframe tbody tr th {\n",
       "        vertical-align: top;\n",
       "    }\n",
       "\n",
       "    .dataframe thead th {\n",
       "        text-align: right;\n",
       "    }\n",
       "</style>\n",
       "<table border=\"1\" class=\"dataframe\">\n",
       "  <thead>\n",
       "    <tr style=\"text-align: right;\">\n",
       "      <th></th>\n",
       "      <th>count</th>\n",
       "      <th>avg_price</th>\n",
       "    </tr>\n",
       "    <tr>\n",
       "      <th>CPUCategory</th>\n",
       "      <th></th>\n",
       "      <th></th>\n",
       "    </tr>\n",
       "  </thead>\n",
       "  <tbody>\n",
       "    <tr>\n",
       "      <th>Intel_Atom</th>\n",
       "      <td>13</td>\n",
       "      <td>5.671953</td>\n",
       "    </tr>\n",
       "    <tr>\n",
       "      <th>Intel_Celeron</th>\n",
       "      <td>88</td>\n",
       "      <td>5.738093</td>\n",
       "    </tr>\n",
       "    <tr>\n",
       "      <th>Intel_Pentium</th>\n",
       "      <td>30</td>\n",
       "      <td>6.044483</td>\n",
       "    </tr>\n",
       "    <tr>\n",
       "      <th>Not_Intel</th>\n",
       "      <td>62</td>\n",
       "      <td>6.215013</td>\n",
       "    </tr>\n",
       "    <tr>\n",
       "      <th>Intel_Core</th>\n",
       "      <td>1105</td>\n",
       "      <td>6.992844</td>\n",
       "    </tr>\n",
       "    <tr>\n",
       "      <th>Intel_Xeon</th>\n",
       "      <td>4</td>\n",
       "      <td>8.126394</td>\n",
       "    </tr>\n",
       "  </tbody>\n",
       "</table>\n",
       "</div>"
      ],
      "text/plain": [
       "               count  avg_price\n",
       "CPUCategory                    \n",
       "Intel_Atom        13   5.671953\n",
       "Intel_Celeron     88   5.738093\n",
       "Intel_Pentium     30   6.044483\n",
       "Not_Intel         62   6.215013\n",
       "Intel_Core      1105   6.992844\n",
       "Intel_Xeon         4   8.126394"
      ]
     },
     "execution_count": 20,
     "metadata": {},
     "output_type": "execute_result"
    }
   ],
   "source": [
    "df['CPUCategory'] = np.where(df['Cpu'].apply(lambda x: x.split()[0]) == 'Intel', (df['Cpu'].apply(lambda x: 'Intel_'+x.split()[1])), 'Not_Intel')\n",
    "df.groupby('CPUCategory').agg(count = ('Product', 'count'), avg_price = ('Price', 'mean')).sort_values(by='avg_price')"
   ]
  },
  {
   "cell_type": "markdown",
   "metadata": {},
   "source": [
    "Merge and use only signicant groups from Intel as \"Intel_Core\" and \"Other_Intel\":"
   ]
  },
  {
   "cell_type": "code",
   "execution_count": 21,
   "metadata": {},
   "outputs": [
    {
     "data": {
      "text/html": [
       "<div>\n",
       "<style scoped>\n",
       "    .dataframe tbody tr th:only-of-type {\n",
       "        vertical-align: middle;\n",
       "    }\n",
       "\n",
       "    .dataframe tbody tr th {\n",
       "        vertical-align: top;\n",
       "    }\n",
       "\n",
       "    .dataframe thead th {\n",
       "        text-align: right;\n",
       "    }\n",
       "</style>\n",
       "<table border=\"1\" class=\"dataframe\">\n",
       "  <thead>\n",
       "    <tr style=\"text-align: right;\">\n",
       "      <th></th>\n",
       "      <th>count</th>\n",
       "      <th>avg_price</th>\n",
       "    </tr>\n",
       "    <tr>\n",
       "      <th>CPUCategory</th>\n",
       "      <th></th>\n",
       "      <th></th>\n",
       "    </tr>\n",
       "  </thead>\n",
       "  <tbody>\n",
       "    <tr>\n",
       "      <th>Other_Intel</th>\n",
       "      <td>135</td>\n",
       "      <td>5.870575</td>\n",
       "    </tr>\n",
       "    <tr>\n",
       "      <th>Not_Intel</th>\n",
       "      <td>62</td>\n",
       "      <td>6.215013</td>\n",
       "    </tr>\n",
       "    <tr>\n",
       "      <th>Intel_Core</th>\n",
       "      <td>1105</td>\n",
       "      <td>6.992844</td>\n",
       "    </tr>\n",
       "  </tbody>\n",
       "</table>\n",
       "</div>"
      ],
      "text/plain": [
       "             count  avg_price\n",
       "CPUCategory                  \n",
       "Other_Intel    135   5.870575\n",
       "Not_Intel       62   6.215013\n",
       "Intel_Core    1105   6.992844"
      ]
     },
     "execution_count": 21,
     "metadata": {},
     "output_type": "execute_result"
    }
   ],
   "source": [
    "df['CPUCategory'] = np.where(df['CPUCategory'].isin(['Intel_Atom', 'Intel_Celeron', 'Intel_Pentium', 'Intel_Xeon']), 'Other_Intel', df['CPUCategory'])\n",
    "df.groupby('CPUCategory').agg(count = ('Product', 'count'), avg_price = ('Price', 'mean')).sort_values(by='avg_price')"
   ]
  },
  {
   "cell_type": "markdown",
   "metadata": {},
   "source": [
    "Use the subtype of \"Intel_Core\" categories:"
   ]
  },
  {
   "cell_type": "code",
   "execution_count": 22,
   "metadata": {},
   "outputs": [
    {
     "data": {
      "text/html": [
       "<div>\n",
       "<style scoped>\n",
       "    .dataframe tbody tr th:only-of-type {\n",
       "        vertical-align: middle;\n",
       "    }\n",
       "\n",
       "    .dataframe tbody tr th {\n",
       "        vertical-align: top;\n",
       "    }\n",
       "\n",
       "    .dataframe thead th {\n",
       "        text-align: right;\n",
       "    }\n",
       "</style>\n",
       "<table border=\"1\" class=\"dataframe\">\n",
       "  <thead>\n",
       "    <tr style=\"text-align: right;\">\n",
       "      <th></th>\n",
       "      <th>count</th>\n",
       "      <th>avg_price</th>\n",
       "    </tr>\n",
       "    <tr>\n",
       "      <th>CPUCategory</th>\n",
       "      <th></th>\n",
       "      <th></th>\n",
       "    </tr>\n",
       "  </thead>\n",
       "  <tbody>\n",
       "    <tr>\n",
       "      <th>Other_Intel</th>\n",
       "      <td>135</td>\n",
       "      <td>5.870575</td>\n",
       "    </tr>\n",
       "    <tr>\n",
       "      <th>Not_Intel</th>\n",
       "      <td>62</td>\n",
       "      <td>6.215013</td>\n",
       "    </tr>\n",
       "    <tr>\n",
       "      <th>Intel_Core_i3</th>\n",
       "      <td>136</td>\n",
       "      <td>6.264279</td>\n",
       "    </tr>\n",
       "    <tr>\n",
       "      <th>Intel_Core_i5</th>\n",
       "      <td>423</td>\n",
       "      <td>6.857348</td>\n",
       "    </tr>\n",
       "    <tr>\n",
       "      <th>Intel_Core_M</th>\n",
       "      <td>19</td>\n",
       "      <td>7.097549</td>\n",
       "    </tr>\n",
       "    <tr>\n",
       "      <th>Intel_Core_i7</th>\n",
       "      <td>527</td>\n",
       "      <td>7.285843</td>\n",
       "    </tr>\n",
       "  </tbody>\n",
       "</table>\n",
       "</div>"
      ],
      "text/plain": [
       "               count  avg_price\n",
       "CPUCategory                    \n",
       "Other_Intel      135   5.870575\n",
       "Not_Intel         62   6.215013\n",
       "Intel_Core_i3    136   6.264279\n",
       "Intel_Core_i5    423   6.857348\n",
       "Intel_Core_M      19   7.097549\n",
       "Intel_Core_i7    527   7.285843"
      ]
     },
     "execution_count": 22,
     "metadata": {},
     "output_type": "execute_result"
    }
   ],
   "source": [
    "df['CPUCategory'] = np.where(df['CPUCategory'] == 'Intel_Core', df['Cpu'].apply(lambda x: 'Intel_Core_'+x.split(' ')[2]), df['CPUCategory'])\n",
    "df.groupby('CPUCategory').agg(count = ('Product', 'count'), avg_price = ('Price', 'mean')).sort_values(by='avg_price')"
   ]
  },
  {
   "cell_type": "markdown",
   "metadata": {},
   "source": [
    "Keep relevant groups of them as \"Intel_Core_i5\" and \"Intel_Core_i7\":"
   ]
  },
  {
   "cell_type": "code",
   "execution_count": 23,
   "metadata": {},
   "outputs": [
    {
     "data": {
      "text/html": [
       "<div>\n",
       "<style scoped>\n",
       "    .dataframe tbody tr th:only-of-type {\n",
       "        vertical-align: middle;\n",
       "    }\n",
       "\n",
       "    .dataframe tbody tr th {\n",
       "        vertical-align: top;\n",
       "    }\n",
       "\n",
       "    .dataframe thead th {\n",
       "        text-align: right;\n",
       "    }\n",
       "</style>\n",
       "<table border=\"1\" class=\"dataframe\">\n",
       "  <thead>\n",
       "    <tr style=\"text-align: right;\">\n",
       "      <th></th>\n",
       "      <th>count</th>\n",
       "      <th>avg_price</th>\n",
       "    </tr>\n",
       "    <tr>\n",
       "      <th>CPUCategory</th>\n",
       "      <th></th>\n",
       "      <th></th>\n",
       "    </tr>\n",
       "  </thead>\n",
       "  <tbody>\n",
       "    <tr>\n",
       "      <th>Other_Intel</th>\n",
       "      <td>290</td>\n",
       "      <td>6.135597</td>\n",
       "    </tr>\n",
       "    <tr>\n",
       "      <th>Not_Intel</th>\n",
       "      <td>62</td>\n",
       "      <td>6.215013</td>\n",
       "    </tr>\n",
       "    <tr>\n",
       "      <th>Intel_Core_i5</th>\n",
       "      <td>423</td>\n",
       "      <td>6.857348</td>\n",
       "    </tr>\n",
       "    <tr>\n",
       "      <th>Intel_Core_i7</th>\n",
       "      <td>527</td>\n",
       "      <td>7.285843</td>\n",
       "    </tr>\n",
       "  </tbody>\n",
       "</table>\n",
       "</div>"
      ],
      "text/plain": [
       "               count  avg_price\n",
       "CPUCategory                    \n",
       "Other_Intel      290   6.135597\n",
       "Not_Intel         62   6.215013\n",
       "Intel_Core_i5    423   6.857348\n",
       "Intel_Core_i7    527   7.285843"
      ]
     },
     "execution_count": 23,
     "metadata": {},
     "output_type": "execute_result"
    }
   ],
   "source": [
    "df['CPUCategory'] = np.where(df['CPUCategory'].isin(['Intel_Core_M', 'Intel_Core_i3']), 'Other_Intel', df['CPUCategory'])\n",
    "df.groupby('CPUCategory').agg(count = ('Product', 'count'), avg_price = ('Price', 'mean')).sort_values(by='avg_price')"
   ]
  },
  {
   "cell_type": "code",
   "execution_count": 24,
   "metadata": {},
   "outputs": [],
   "source": [
    "df.drop(['Cpu'], axis=1, inplace=True)"
   ]
  },
  {
   "cell_type": "markdown",
   "metadata": {},
   "source": [
    "Convert Ram feature into float:"
   ]
  },
  {
   "cell_type": "code",
   "execution_count": 25,
   "metadata": {},
   "outputs": [],
   "source": [
    "df['RamGB'] = df['Ram'].apply(lambda x: int(x.split('GB')[0]))\n",
    "df.drop(['Ram'], axis=1, inplace=True)"
   ]
  },
  {
   "cell_type": "markdown",
   "metadata": {},
   "source": [
    "Take information from memory feature about SSD, HDD, Flash Storage and Hybrid:"
   ]
  },
  {
   "cell_type": "code",
   "execution_count": 26,
   "metadata": {},
   "outputs": [],
   "source": [
    "def get_memory_gb(string, type):\n",
    "\n",
    "    ssd = 0\n",
    "    hdd = 0\n",
    "    flash_storage = 0\n",
    "    hybrid = 0\n",
    "\n",
    "    string_list = string.split(' ')\n",
    "\n",
    "    for i, e in enumerate(string_list):\n",
    "\n",
    "        if e.find('TB') != -1:\n",
    "            string_list[i] = str(int(float(e.split('TB')[0]))*1000)+str('GB')\n",
    "\n",
    "        if e == 'SSD':\n",
    "            ssd += int(string_list[i-1].split('GB')[0])\n",
    "        \n",
    "        elif e == 'HDD':\n",
    "            hdd += int(string_list[i-1].split('GB')[0])\n",
    "\n",
    "        elif e == 'Flash':\n",
    "            flash_storage += int(string_list[i-1].split('GB')[0])\n",
    "\n",
    "        elif e == 'Hybrid':\n",
    "            hybrid += int(string_list[i-1].split('GB')[0])\n",
    "\n",
    "    if type == 'ssd':\n",
    "        return(ssd)\n",
    "    \n",
    "    elif type == 'hdd':\n",
    "        return(hdd)\n",
    "    \n",
    "    elif type == 'flash_storage':\n",
    "        return(flash_storage)\n",
    "    \n",
    "    elif type == 'hybrid':\n",
    "        return(hybrid)"
   ]
  },
  {
   "cell_type": "code",
   "execution_count": 27,
   "metadata": {},
   "outputs": [],
   "source": [
    "df['MemorySSDGB'] = df['Memory'].apply(lambda x: get_memory_gb(x, 'ssd'))\n",
    "df['MemoryHDDGB'] = df['Memory'].apply(lambda x: get_memory_gb(x, 'hdd'))\n",
    "df['MemoryFlashStorageGB'] = df['Memory'].apply(lambda x: get_memory_gb(x, 'flash_storage'))\n",
    "df['MemoryHybridGB'] = df['Memory'].apply(lambda x: get_memory_gb(x, 'hybrid'))"
   ]
  },
  {
   "cell_type": "code",
   "execution_count": 28,
   "metadata": {},
   "outputs": [],
   "source": [
    "df.drop(['Memory'], axis=1, inplace=True)"
   ]
  },
  {
   "cell_type": "markdown",
   "metadata": {},
   "source": [
    "Create **GPUCategory** feature, contains information about the brand of GPU:"
   ]
  },
  {
   "cell_type": "code",
   "execution_count": 29,
   "metadata": {},
   "outputs": [
    {
     "data": {
      "text/html": [
       "<div>\n",
       "<style scoped>\n",
       "    .dataframe tbody tr th:only-of-type {\n",
       "        vertical-align: middle;\n",
       "    }\n",
       "\n",
       "    .dataframe tbody tr th {\n",
       "        vertical-align: top;\n",
       "    }\n",
       "\n",
       "    .dataframe thead th {\n",
       "        text-align: right;\n",
       "    }\n",
       "</style>\n",
       "<table border=\"1\" class=\"dataframe\">\n",
       "  <thead>\n",
       "    <tr style=\"text-align: right;\">\n",
       "      <th></th>\n",
       "      <th>count</th>\n",
       "      <th>avg_price</th>\n",
       "    </tr>\n",
       "    <tr>\n",
       "      <th>GPUCategory</th>\n",
       "      <th></th>\n",
       "      <th></th>\n",
       "    </tr>\n",
       "  </thead>\n",
       "  <tbody>\n",
       "    <tr>\n",
       "      <th>AMD</th>\n",
       "      <td>180</td>\n",
       "      <td>6.537328</td>\n",
       "    </tr>\n",
       "    <tr>\n",
       "      <th>Intel</th>\n",
       "      <td>722</td>\n",
       "      <td>6.727790</td>\n",
       "    </tr>\n",
       "    <tr>\n",
       "      <th>Nvidia</th>\n",
       "      <td>400</td>\n",
       "      <td>7.176920</td>\n",
       "    </tr>\n",
       "  </tbody>\n",
       "</table>\n",
       "</div>"
      ],
      "text/plain": [
       "             count  avg_price\n",
       "GPUCategory                  \n",
       "AMD            180   6.537328\n",
       "Intel          722   6.727790\n",
       "Nvidia         400   7.176920"
      ]
     },
     "execution_count": 29,
     "metadata": {},
     "output_type": "execute_result"
    }
   ],
   "source": [
    "df['GPUCategory'] = df['Gpu'].apply(lambda x: x.split()[0])\n",
    "df.groupby('GPUCategory').agg(count = ('Product', 'count'), avg_price = ('Price', 'mean')).sort_values(by='avg_price')"
   ]
  },
  {
   "cell_type": "code",
   "execution_count": 30,
   "metadata": {},
   "outputs": [],
   "source": [
    "df.drop(['Gpu'], axis=1, inplace=True)"
   ]
  },
  {
   "cell_type": "markdown",
   "metadata": {},
   "source": [
    "Merge similar operating system categories:"
   ]
  },
  {
   "cell_type": "code",
   "execution_count": 31,
   "metadata": {},
   "outputs": [
    {
     "data": {
      "text/html": [
       "<div>\n",
       "<style scoped>\n",
       "    .dataframe tbody tr th:only-of-type {\n",
       "        vertical-align: middle;\n",
       "    }\n",
       "\n",
       "    .dataframe tbody tr th {\n",
       "        vertical-align: top;\n",
       "    }\n",
       "\n",
       "    .dataframe thead th {\n",
       "        text-align: right;\n",
       "    }\n",
       "</style>\n",
       "<table border=\"1\" class=\"dataframe\">\n",
       "  <thead>\n",
       "    <tr style=\"text-align: right;\">\n",
       "      <th></th>\n",
       "      <th>count</th>\n",
       "      <th>avg_price</th>\n",
       "    </tr>\n",
       "    <tr>\n",
       "      <th>OpSysCategory</th>\n",
       "      <th></th>\n",
       "      <th></th>\n",
       "    </tr>\n",
       "  </thead>\n",
       "  <tbody>\n",
       "    <tr>\n",
       "      <th>Other</th>\n",
       "      <td>156</td>\n",
       "      <td>6.265046</td>\n",
       "    </tr>\n",
       "    <tr>\n",
       "      <th>Windows</th>\n",
       "      <td>1125</td>\n",
       "      <td>6.910510</td>\n",
       "    </tr>\n",
       "    <tr>\n",
       "      <th>Mac</th>\n",
       "      <td>21</td>\n",
       "      <td>7.299084</td>\n",
       "    </tr>\n",
       "  </tbody>\n",
       "</table>\n",
       "</div>"
      ],
      "text/plain": [
       "               count  avg_price\n",
       "OpSysCategory                  \n",
       "Other            156   6.265046\n",
       "Windows         1125   6.910510\n",
       "Mac               21   7.299084"
      ]
     },
     "execution_count": 31,
     "metadata": {},
     "output_type": "execute_result"
    }
   ],
   "source": [
    "df['OpSysCategory'] = df['OpSys'].copy()\n",
    "df['OpSysCategory'].replace(['Android', 'Chrome OS', 'No OS', 'Linux'], 'Other', inplace=True)\n",
    "df['OpSysCategory'].replace(['Windows 10 S', 'Windows 10', 'Windows 7'], 'Windows', inplace=True)\n",
    "df['OpSysCategory'].replace(['Mac OS X', 'macOS'], 'Mac', inplace=True)\n",
    "\n",
    "df.groupby('OpSysCategory').agg(count = ('Product', 'count'), avg_price = ('Price', 'mean')).sort_values(by='avg_price')"
   ]
  },
  {
   "cell_type": "code",
   "execution_count": 32,
   "metadata": {},
   "outputs": [],
   "source": [
    "df.drop(['OpSys'], axis=1, inplace=True)"
   ]
  },
  {
   "cell_type": "markdown",
   "metadata": {},
   "source": [
    "Convert weight of laptop feature into float:"
   ]
  },
  {
   "cell_type": "code",
   "execution_count": 33,
   "metadata": {},
   "outputs": [],
   "source": [
    "df['WeightKG'] = df['Weight'].apply(lambda x: float(x.split('kg')[0]))"
   ]
  },
  {
   "cell_type": "code",
   "execution_count": 34,
   "metadata": {},
   "outputs": [],
   "source": [
    "df.drop(['Weight'], axis=1, inplace=True)"
   ]
  },
  {
   "cell_type": "markdown",
   "metadata": {},
   "source": [
    "### Create dummy features"
   ]
  },
  {
   "cell_type": "code",
   "execution_count": 35,
   "metadata": {},
   "outputs": [],
   "source": [
    "dummy = OneHotEncoder(drop='first')\n",
    "\n",
    "numerical_features = df.select_dtypes(exclude='object').columns.tolist()\n",
    "numerical_features.remove('Price')\n",
    "categorical_features = ['CPUCategory', 'GPUCategory', 'OpSysCategory']"
   ]
  },
  {
   "cell_type": "code",
   "execution_count": 36,
   "metadata": {},
   "outputs": [
    {
     "data": {
      "text/plain": [
       "7"
      ]
     },
     "execution_count": 36,
     "metadata": {},
     "output_type": "execute_result"
    }
   ],
   "source": [
    "pd.DataFrame(dummy.fit_transform(df[categorical_features]).toarray(),\n",
    "             columns=dummy.get_feature_names_out(), index=df.index).shape[1]"
   ]
  },
  {
   "cell_type": "code",
   "execution_count": 37,
   "metadata": {},
   "outputs": [],
   "source": [
    "df = pd.concat([df, pd.DataFrame(dummy.fit_transform(df[categorical_features]).toarray(),\n",
    "             columns=dummy.get_feature_names_out(), index=df.index).astype(int)], axis=1).copy()\n",
    "\n",
    "dummy_features = df.columns.tolist()[-7:]"
   ]
  },
  {
   "cell_type": "markdown",
   "metadata": {},
   "source": [
    "## Exploratory Data Analysis 2.0"
   ]
  },
  {
   "cell_type": "markdown",
   "metadata": {},
   "source": [
    "After feature engineering there is another section of finding insights before model fitting."
   ]
  },
  {
   "cell_type": "markdown",
   "metadata": {},
   "source": [
    "Plot categorical features:"
   ]
  },
  {
   "cell_type": "code",
   "execution_count": 38,
   "metadata": {},
   "outputs": [
    {
     "data": {
      "image/png": "[encoded data removed]",
      "text/plain": [
       "<Figure size 900x2400 with 16 Axes>"
      ]
     },
     "metadata": {},
     "output_type": "display_data"
    }
   ],
   "source": [
    "plot_categories(df, ['RamGB',\n",
    "       'MemorySSDGB', 'MemoryHDDGB', 'MemoryFlashStorageGB', 'MemoryHybridGB',\n",
    "       'CPUCategory_Intel_Core_i7', 'CPUCategory_Not_Intel', 'CPUCategory_Other_Intel', 'GPUCategory_Intel',\n",
    "                    'GPUCategory_Nvidia', 'IPSPanel_Flag', 'RetinaDisplay_Flag', 'TouchScreen_Flag',\n",
    "                    'FullHD_Flag', 'QuadHD_Flag', 'UltraHD_Flag'])"
   ]
  },
  {
   "cell_type": "markdown",
   "metadata": {},
   "source": [
    "Remove outliers from the dataset based on the group frequencies of Memory-type features:"
   ]
  },
  {
   "cell_type": "code",
   "execution_count": 39,
   "metadata": {},
   "outputs": [],
   "source": [
    "df = df.loc[df['RamGB'].isin([24, 64]) == False].copy()\n",
    "\n",
    "df = df.loc[df['MemorySSDGB'].isin([0, 128, 256, 512])].copy()\n",
    "df = df.loc[df['MemoryHDDGB'].isin([0, 500, 1000, 2000])].copy()\n",
    "df = df.loc[df['MemoryFlashStorageGB'].isin([0, 32, 64])].copy()\n",
    "\n",
    "df = df.loc[df['MemoryHybridGB'].isin([0])].copy()\n",
    "df = df.loc[df['RetinaDisplay_Flag'].isin([0])].copy()"
   ]
  },
  {
   "cell_type": "code",
   "execution_count": 40,
   "metadata": {},
   "outputs": [],
   "source": [
    "df.drop(['MemoryHybridGB', 'RetinaDisplay_Flag'], axis=1, inplace=True)\n",
    "numerical_features.remove('MemoryHybridGB')\n",
    "numerical_features.remove('RetinaDisplay_Flag')"
   ]
  },
  {
   "cell_type": "code",
   "execution_count": 41,
   "metadata": {},
   "outputs": [
    {
     "data": {
      "image/png": "[encoded data removed]",
      "text/plain": [
       "<Figure size 900x600 with 4 Axes>"
      ]
     },
     "metadata": {},
     "output_type": "display_data"
    }
   ],
   "source": [
    "plot_categories(df, ['RamGB', 'MemorySSDGB', 'MemoryHDDGB', 'MemoryFlashStorageGB'])"
   ]
  },
  {
   "cell_type": "code",
   "execution_count": 42,
   "metadata": {},
   "outputs": [
    {
     "data": {
      "text/plain": [
       "(1217, 26)"
      ]
     },
     "execution_count": 42,
     "metadata": {},
     "output_type": "execute_result"
    }
   ],
   "source": [
    "df.shape"
   ]
  },
  {
   "cell_type": "markdown",
   "metadata": {},
   "source": [
    "Plot histograms for numerical features:"
   ]
  },
  {
   "cell_type": "code",
   "execution_count": 43,
   "metadata": {},
   "outputs": [
    {
     "data": {
      "image/png": "[encoded data removed]",
      "text/plain": [
       "<Figure size 900x600 with 3 Axes>"
      ]
     },
     "metadata": {},
     "output_type": "display_data"
    }
   ],
   "source": [
    "plot_histograms(df, ['PixelsPerInch', 'CPUGhz', 'WeightKG'])"
   ]
  },
  {
   "cell_type": "markdown",
   "metadata": {},
   "source": [
    "## Train-test splitting"
   ]
  },
  {
   "cell_type": "code",
   "execution_count": 44,
   "metadata": {},
   "outputs": [
    {
     "name": "stdout",
     "output_type": "stream",
     "text": [
      "Number of observations in train sample: 851\n",
      "Average log_price in train sample: 6.8417\n",
      "Number of observations in test sample: 366\n",
      "Average log_price in test sample: 6.8006\n"
     ]
    }
   ],
   "source": [
    "X = df[dummy_features+numerical_features]\n",
    "y = df['Price'].copy()\n",
    "\n",
    "X_train, X_test, y_train, y_test = train_test_split(X, y, test_size=0.3, random_state=42)\n",
    "\n",
    "print(f'Number of observations in train sample: {X_train.shape[0]}')\n",
    "print(f'Average log_price in train sample: {round(y_train.mean(),4)}')\n",
    "print(f'Number of observations in test sample: {X_test.shape[0]}')\n",
    "print(f'Average log_price in test sample: {round(y_test.mean(),4)}')"
   ]
  },
  {
   "cell_type": "markdown",
   "metadata": {},
   "source": [
    "## Regression models"
   ]
  },
  {
   "cell_type": "markdown",
   "metadata": {},
   "source": [
    "For model evaluation **R2-Score** will be used, which shows the goodness of fit of the regression model."
   ]
  },
  {
   "cell_type": "markdown",
   "metadata": {},
   "source": [
    "Cross validation for GridSearchCV:"
   ]
  },
  {
   "cell_type": "code",
   "execution_count": 45,
   "metadata": {},
   "outputs": [],
   "source": [
    "cv = KFold(n_splits=5, random_state=42, shuffle=True)"
   ]
  },
  {
   "cell_type": "markdown",
   "metadata": {},
   "source": [
    "### Linear regression"
   ]
  },
  {
   "cell_type": "markdown",
   "metadata": {},
   "source": [
    "Check the correlation of features with the target to get sorted list of them"
   ]
  },
  {
   "cell_type": "code",
   "execution_count": 46,
   "metadata": {},
   "outputs": [],
   "source": [
    "corr_with_target = pd.concat([X_train, y_train], axis=1).corr().abs().iloc[:,-1].sort_values(ascending=False)[1:]"
   ]
  },
  {
   "cell_type": "markdown",
   "metadata": {},
   "source": [
    "Keep relevant features with higher than 0.2 in absolute value correlation coefficient with the target:"
   ]
  },
  {
   "cell_type": "code",
   "execution_count": 47,
   "metadata": {},
   "outputs": [
    {
     "data": {
      "text/plain": [
       "['RamGB',\n",
       " 'MemorySSDGB',\n",
       " 'CPUCategory_Other_Intel',\n",
       " 'CPUCategory_Intel_Core_i7',\n",
       " 'CPUGhz',\n",
       " 'PixelsPerInch',\n",
       " 'FullHD_Flag',\n",
       " 'GPUCategory_Nvidia',\n",
       " 'OpSysCategory_Windows',\n",
       " 'OpSysCategory_Other',\n",
       " 'MemoryFlashStorageGB',\n",
       " 'IPSPanel_Flag',\n",
       " 'UltraHD_Flag',\n",
       " 'TouchScreen_Flag']"
      ]
     },
     "execution_count": 47,
     "metadata": {},
     "output_type": "execute_result"
    }
   ],
   "source": [
    "selected_features = corr_with_target.loc[corr_with_target >= 0.2].index.tolist()\n",
    "selected_features"
   ]
  },
  {
   "cell_type": "code",
   "execution_count": 48,
   "metadata": {},
   "outputs": [],
   "source": [
    "linreg = LinearRegression()\n",
    "linreg.fit(X_train[selected_features], y_train);"
   ]
  },
  {
   "cell_type": "markdown",
   "metadata": {},
   "source": [
    "Performance on train and test sample:"
   ]
  },
  {
   "cell_type": "code",
   "execution_count": 49,
   "metadata": {},
   "outputs": [
    {
     "data": {
      "text/plain": [
       "0.7480455887992115"
      ]
     },
     "execution_count": 49,
     "metadata": {},
     "output_type": "execute_result"
    }
   ],
   "source": [
    "r2_score(y_train, linreg.predict(X_train[selected_features]))"
   ]
  },
  {
   "cell_type": "code",
   "execution_count": 50,
   "metadata": {},
   "outputs": [
    {
     "data": {
      "text/plain": [
       "0.7653650416085517"
      ]
     },
     "execution_count": 50,
     "metadata": {},
     "output_type": "execute_result"
    }
   ],
   "source": [
    "r2_score(y_test, linreg.predict(X_test[selected_features]))"
   ]
  },
  {
   "cell_type": "markdown",
   "metadata": {},
   "source": [
    "### Decision Tree Regressor"
   ]
  },
  {
   "cell_type": "code",
   "execution_count": 51,
   "metadata": {},
   "outputs": [
    {
     "data": {
      "text/plain": [
       "{'max_depth': 6}"
      ]
     },
     "execution_count": 51,
     "metadata": {},
     "output_type": "execute_result"
    }
   ],
   "source": [
    "params_dtree = {'max_depth': [2,3,4,5,6]}\n",
    "grid_dtree = GridSearchCV(DecisionTreeRegressor(min_samples_leaf=0.05),\n",
    "                          params_dtree, cv=cv, scoring='r2', n_jobs=-1)\n",
    "\n",
    "grid_dtree.fit(X_train[numerical_features+dummy_features], y_train)\n",
    "grid_dtree.best_params_"
   ]
  },
  {
   "cell_type": "markdown",
   "metadata": {},
   "source": [
    "Performance on train sample using cross validation (average test results):"
   ]
  },
  {
   "cell_type": "code",
   "execution_count": 52,
   "metadata": {},
   "outputs": [
    {
     "data": {
      "text/plain": [
       "R2 Score                   0.76410\n",
       "Root Mean Squared Error    0.28318\n",
       "dtype: float64"
      ]
     },
     "execution_count": 52,
     "metadata": {},
     "output_type": "execute_result"
    }
   ],
   "source": [
    "results = evaluate_cv(grid_dtree.best_estimator_, X_train[numerical_features+dummy_features], y_train, cv)\n",
    "results.mean()"
   ]
  },
  {
   "cell_type": "markdown",
   "metadata": {},
   "source": [
    "Performance on test sample:"
   ]
  },
  {
   "cell_type": "code",
   "execution_count": 53,
   "metadata": {},
   "outputs": [
    {
     "data": {
      "text/plain": [
       "0.7422318416979836"
      ]
     },
     "execution_count": 53,
     "metadata": {},
     "output_type": "execute_result"
    }
   ],
   "source": [
    "r2_score(y_test, grid_dtree.best_estimator_.predict(X_test[numerical_features+dummy_features]))"
   ]
  },
  {
   "cell_type": "markdown",
   "metadata": {},
   "source": [
    "### Random Forest Regressor"
   ]
  },
  {
   "cell_type": "code",
   "execution_count": 54,
   "metadata": {},
   "outputs": [
    {
     "data": {
      "text/plain": [
       "{'max_depth': 5, 'max_features': 5, 'n_estimators': 100}"
      ]
     },
     "execution_count": 54,
     "metadata": {},
     "output_type": "execute_result"
    }
   ],
   "source": [
    "params_rf = {'n_estimators': [75, 100, 125], 'max_depth': [3,4,5], 'max_features': [5]}\n",
    "grid_rf = GridSearchCV(RandomForestRegressor(random_state=0),\n",
    "                          params_rf, cv=cv, scoring='r2', n_jobs=-1)\n",
    "\n",
    "grid_rf.fit(X_train[numerical_features+dummy_features], y_train)\n",
    "grid_rf.best_params_"
   ]
  },
  {
   "cell_type": "markdown",
   "metadata": {},
   "source": [
    "Performance on train sample using cross validation (average test results):"
   ]
  },
  {
   "cell_type": "code",
   "execution_count": 55,
   "metadata": {},
   "outputs": [
    {
     "data": {
      "text/plain": [
       "R2 Score                   0.86098\n",
       "Root Mean Squared Error    0.21880\n",
       "dtype: float64"
      ]
     },
     "execution_count": 55,
     "metadata": {},
     "output_type": "execute_result"
    }
   ],
   "source": [
    "results = evaluate_cv(grid_rf.best_estimator_, X_train[numerical_features+dummy_features], y_train, cv)\n",
    "results.mean()"
   ]
  },
  {
   "cell_type": "markdown",
   "metadata": {},
   "source": [
    "Performance on test sample:"
   ]
  },
  {
   "cell_type": "code",
   "execution_count": 56,
   "metadata": {},
   "outputs": [
    {
     "data": {
      "text/plain": [
       "0.8311624257973663"
      ]
     },
     "execution_count": 56,
     "metadata": {},
     "output_type": "execute_result"
    }
   ],
   "source": [
    "r2_score(y_test, grid_rf.best_estimator_.predict(X_test[numerical_features+dummy_features]))"
   ]
  },
  {
   "cell_type": "markdown",
   "metadata": {},
   "source": [
    "### XGBoost Regressor"
   ]
  },
  {
   "cell_type": "code",
   "execution_count": 57,
   "metadata": {},
   "outputs": [
    {
     "data": {
      "text/plain": [
       "{'learning_rate': 0.1, 'max_depth': 2, 'n_estimators': 100}"
      ]
     },
     "execution_count": 57,
     "metadata": {},
     "output_type": "execute_result"
    }
   ],
   "source": [
    "params_xgb = {'n_estimators': [50, 75, 100], 'max_depth': [2], 'learning_rate': [0.025, 0.05, 0.075, 0.1]}\n",
    "grid_xgb = GridSearchCV(XGBRegressor(),\n",
    "                          params_xgb, cv=cv, scoring='r2', n_jobs=-1)\n",
    "\n",
    "grid_xgb.fit(X_train[numerical_features+dummy_features], y_train)\n",
    "grid_xgb.best_params_"
   ]
  },
  {
   "cell_type": "markdown",
   "metadata": {},
   "source": [
    "Performance on train sample using cross validation (average test results):"
   ]
  },
  {
   "cell_type": "code",
   "execution_count": 58,
   "metadata": {},
   "outputs": [
    {
     "data": {
      "text/plain": [
       "R2 Score                   0.88954\n",
       "Root Mean Squared Error    0.19524\n",
       "dtype: float64"
      ]
     },
     "execution_count": 58,
     "metadata": {},
     "output_type": "execute_result"
    }
   ],
   "source": [
    "results = evaluate_cv(grid_xgb.best_estimator_, X_train[numerical_features+dummy_features], y_train, cv)\n",
    "results.mean()"
   ]
  },
  {
   "cell_type": "markdown",
   "metadata": {},
   "source": [
    "Performance on test sample:"
   ]
  },
  {
   "cell_type": "code",
   "execution_count": 59,
   "metadata": {},
   "outputs": [
    {
     "data": {
      "text/plain": [
       "0.8606300819267996"
      ]
     },
     "execution_count": 59,
     "metadata": {},
     "output_type": "execute_result"
    }
   ],
   "source": [
    "r2_score(y_test, grid_xgb.best_estimator_.predict(X_test[numerical_features+dummy_features]))"
   ]
  },
  {
   "cell_type": "markdown",
   "metadata": {},
   "source": [
    "## Summary"
   ]
  },
  {
   "cell_type": "code",
   "execution_count": 60,
   "metadata": {},
   "outputs": [],
   "source": [
    "models_dict = {'Linear Regression': [r2_score(y_test, linreg.predict(X_test[selected_features])).round(4)],\n",
    "               'Decision Tree': [r2_score(y_test, grid_dtree.best_estimator_.predict(X_test[numerical_features+dummy_features])).round(4)],\n",
    "               'Random Forest': [r2_score(y_test, grid_rf.best_estimator_.predict(X_test[numerical_features+dummy_features])).round(4)],\n",
    "               'XGBoost': [r2_score(y_test, grid_xgb.best_estimator_.predict(X_test[numerical_features+dummy_features])).round(4)]}"
   ]
  },
  {
   "cell_type": "code",
   "execution_count": 61,
   "metadata": {},
   "outputs": [
    {
     "data": {
      "text/html": [
       "<div>\n",
       "<style scoped>\n",
       "    .dataframe tbody tr th:only-of-type {\n",
       "        vertical-align: middle;\n",
       "    }\n",
       "\n",
       "    .dataframe tbody tr th {\n",
       "        vertical-align: top;\n",
       "    }\n",
       "\n",
       "    .dataframe thead th {\n",
       "        text-align: right;\n",
       "    }\n",
       "</style>\n",
       "<table border=\"1\" class=\"dataframe\">\n",
       "  <thead>\n",
       "    <tr style=\"text-align: right;\">\n",
       "      <th></th>\n",
       "      <th>R2-Score</th>\n",
       "    </tr>\n",
       "  </thead>\n",
       "  <tbody>\n",
       "    <tr>\n",
       "      <th>XGBoost</th>\n",
       "      <td>0.8606</td>\n",
       "    </tr>\n",
       "    <tr>\n",
       "      <th>Random Forest</th>\n",
       "      <td>0.8312</td>\n",
       "    </tr>\n",
       "    <tr>\n",
       "      <th>Linear Regression</th>\n",
       "      <td>0.7654</td>\n",
       "    </tr>\n",
       "    <tr>\n",
       "      <th>Decision Tree</th>\n",
       "      <td>0.7422</td>\n",
       "    </tr>\n",
       "  </tbody>\n",
       "</table>\n",
       "</div>"
      ],
      "text/plain": [
       "                   R2-Score\n",
       "XGBoost              0.8606\n",
       "Random Forest        0.8312\n",
       "Linear Regression    0.7654\n",
       "Decision Tree        0.7422"
      ]
     },
     "execution_count": 61,
     "metadata": {},
     "output_type": "execute_result"
    }
   ],
   "source": [
    "pd.DataFrame.from_dict(models_dict).T.rename(columns={0: 'R2-Score'}).sort_values(by='R2-Score', ascending=False)"
   ]
  },
  {
   "cell_type": "markdown",
   "metadata": {},
   "source": [
    "Based on the R2-Score evaluation metric the **XGBoost** model is the best regression model for predicting the laptop prices."
   ]
  },
  {
   "cell_type": "markdown",
   "metadata": {},
   "source": [
    "Notebook running time:"
   ]
  },
  {
   "cell_type": "code",
   "execution_count": 62,
   "metadata": {},
   "outputs": [
    {
     "name": "stdout",
     "output_type": "stream",
     "text": [
      "0.1467 minutes.\n"
     ]
    }
   ],
   "source": [
    "print(f'{round((time.time() - start_time)/60,4)} minutes.')"
   ]
  }
 ],
 "metadata": {
  "kernelspec": {
   "display_name": "Python 3",
   "language": "python",
   "name": "python3"
  },
  "language_info": {
   "codemirror_mode": {
    "name": "ipython",
    "version": 3
   },
   "file_extension": ".py",
   "mimetype": "text/x-python",
   "name": "python",
   "nbconvert_exporter": "python",
   "pygments_lexer": "ipython3",
   "version": "3.11.9"
  }
 },
 "nbformat": 4,
 "nbformat_minor": 2
}
